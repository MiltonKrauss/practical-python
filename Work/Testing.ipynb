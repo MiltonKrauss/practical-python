{
 "cells": [
  {
   "cell_type": "code",
   "execution_count": 5,
   "id": "004305e1",
   "metadata": {},
   "outputs": [],
   "source": [
    "skills = {'Python', 'HTML', 'SQL', 'C++', 'Java', 'Scala'}"
   ]
  },
  {
   "cell_type": "code",
   "execution_count": 6,
   "id": "a23f0821",
   "metadata": {},
   "outputs": [],
   "source": [
    "job_skills = {'HTML', 'CSS', 'JS', 'C#', 'NodeJS'}"
   ]
  },
  {
   "cell_type": "code",
   "execution_count": 8,
   "id": "23c9e116",
   "metadata": {},
   "outputs": [
    {
     "name": "stdout",
     "output_type": "stream",
     "text": [
      "{'HTML'}\n"
     ]
    }
   ],
   "source": [
    "print(skills.intersection(job_skills))"
   ]
  },
  {
   "cell_type": "code",
   "execution_count": 9,
   "id": "6a18f819",
   "metadata": {},
   "outputs": [
    {
     "name": "stdout",
     "output_type": "stream",
     "text": [
      "HTML\n"
     ]
    }
   ],
   "source": [
    "print(list(skills & job_skills)[0])"
   ]
  },
  {
   "cell_type": "code",
   "execution_count": 10,
   "id": "403c59a2",
   "metadata": {},
   "outputs": [],
   "source": [
    "import numpy as np"
   ]
  },
  {
   "cell_type": "code",
   "execution_count": 15,
   "id": "7a52b282",
   "metadata": {},
   "outputs": [],
   "source": [
    "import matplotlib.pyplot as plt\n",
    "%matplotlib inline"
   ]
  },
  {
   "cell_type": "code",
   "execution_count": null,
   "id": "f9abcec6",
   "metadata": {},
   "outputs": [],
   "source": []
  }
 ],
 "metadata": {
  "kernelspec": {
   "display_name": "Python 3 (ipykernel)",
   "language": "python",
   "name": "python3"
  },
  "language_info": {
   "codemirror_mode": {
    "name": "ipython",
    "version": 3
   },
   "file_extension": ".py",
   "mimetype": "text/x-python",
   "name": "python",
   "nbconvert_exporter": "python",
   "pygments_lexer": "ipython3",
   "version": "3.10.9"
  }
 },
 "nbformat": 4,
 "nbformat_minor": 5
}
