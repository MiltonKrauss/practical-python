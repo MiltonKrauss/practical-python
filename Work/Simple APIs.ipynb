{
 "cells": [
  {
   "cell_type": "markdown",
   "id": "eb66b42c",
   "metadata": {},
   "source": [
    "Get Methods from RandomUser API:\n",
    "\n",
    "get_cell()\n",
    "get_city()\n",
    "get_dob()\n",
    "get_email()\n",
    "get_first_name()\n",
    "get_full_name()\n",
    "get_gender()\n",
    "get_id()\n",
    "get_id_number()\n",
    "get_id_type()\n",
    "get_info()\n",
    "get_last_name()\n",
    "get_login_md5()\n",
    "get_login_salt()\n",
    "get_login_sha1()\n",
    "get_login_sha256()\n",
    "get_nat()\n",
    "get_password()\n",
    "get_phone()\n",
    "get_picture()\n",
    "get_postcode()\n",
    "get_registered()\n",
    "get_state()\n",
    "get_street()\n",
    "get_username()\n",
    "get_zipcode()"
   ]
  },
  {
   "cell_type": "code",
   "execution_count": null,
   "id": "b0ac92ea",
   "metadata": {},
   "outputs": [],
   "source": [
    "!pip install randomuser"
   ]
  },
  {
   "cell_type": "code",
   "execution_count": null,
   "id": "1f897cf4",
   "metadata": {},
   "outputs": [],
   "source": [
    "from randomuser import RandomUser\n",
    "import pandas as pd"
   ]
  },
  {
   "cell_type": "code",
   "execution_count": null,
   "id": "6b9c3f77",
   "metadata": {},
   "outputs": [],
   "source": [
    "r = RandomUser()"
   ]
  },
  {
   "cell_type": "code",
   "execution_count": null,
   "id": "e822b585",
   "metadata": {},
   "outputs": [],
   "source": [
    "some_list = r.generate_users(10)\n",
    "some_list"
   ]
  },
  {
   "cell_type": "code",
   "execution_count": null,
   "id": "73073eea",
   "metadata": {},
   "outputs": [],
   "source": [
    "name = r.get_full_name()"
   ]
  },
  {
   "cell_type": "code",
   "execution_count": null,
   "id": "f39505a0",
   "metadata": {},
   "outputs": [],
   "source": [
    "for user in some_list:\n",
    "    print (user.get_full_name(),\" \",user.get_email())"
   ]
  },
  {
   "cell_type": "markdown",
   "id": "3677c1e2",
   "metadata": {},
   "source": [
    "Generate photos of the random 5 users."
   ]
  },
  {
   "cell_type": "code",
   "execution_count": null,
   "id": "f0fd5705",
   "metadata": {},
   "outputs": [],
   "source": [
    "for user..."
   ]
  },
  {
   "cell_type": "markdown",
   "id": "c44e862f",
   "metadata": {},
   "source": [
    "To generate a table with information about the users, we can write a function containing all desirable parameters. For example, name, gender, city, etc. The parameters will depend on the requirements of the test to be performed. We call the Get Methods, listed at the beginning of this notebook. Then, we return pandas dataframe with the users."
   ]
  },
  {
   "cell_type": "code",
   "execution_count": null,
   "id": "59d3dfda",
   "metadata": {},
   "outputs": [],
   "source": [
    "def get_users():\n",
    "    users =[]\n",
    "     \n",
    "    for user in RandomUser.generate_users(10):\n",
    "        users.append({\"Name\":user.get_full_name(),\"Gender\":user.get_gender(),\"City\":user.get_city(),\"State\":user.get_state(),\"Email\":user.get_email(), \"DOB\":user.get_dob(),\"Picture\":user.get_picture()})\n",
    "      \n",
    "    return pd.DataFrame(users)"
   ]
  },
  {
   "cell_type": "code",
   "execution_count": null,
   "id": "ce8541aa",
   "metadata": {},
   "outputs": [],
   "source": [
    "get_users()"
   ]
  },
  {
   "cell_type": "code",
   "execution_count": null,
   "id": "fbb09a23",
   "metadata": {},
   "outputs": [],
   "source": [
    "df1 = pd.DataFrame(get_users())"
   ]
  },
  {
   "cell_type": "markdown",
   "id": "2b7fa7a8",
   "metadata": {},
   "source": [
    "Now we have a pandas dataframe that can be used for any testing purposes that the tester might have."
   ]
  },
  {
   "cell_type": "markdown",
   "id": "a0848201",
   "metadata": {},
   "source": [
    "Fruitvice API\n",
    "\n",
    "Another, more common way to use APIs, is through requests library. The next lab, Requests and HTTP, will contain more information about requests."
   ]
  },
  {
   "cell_type": "code",
   "execution_count": null,
   "id": "8ff21902",
   "metadata": {},
   "outputs": [],
   "source": [
    "import requests\n",
    "import json"
   ]
  },
  {
   "cell_type": "code",
   "execution_count": null,
   "id": "6931010c",
   "metadata": {},
   "outputs": [],
   "source": [
    "data = requests.get(\"https://fruityvice.com/api/fruit/all\")"
   ]
  },
  {
   "cell_type": "code",
   "execution_count": null,
   "id": "d5bb9540",
   "metadata": {},
   "outputs": [],
   "source": [
    "results = json.loads(data.text)"
   ]
  },
  {
   "cell_type": "code",
   "execution_count": null,
   "id": "5a778440",
   "metadata": {},
   "outputs": [],
   "source": [
    "pd.DataFrame(results)"
   ]
  },
  {
   "cell_type": "code",
   "execution_count": null,
   "id": "02d82c89",
   "metadata": {},
   "outputs": [],
   "source": [
    "df2 = pd.json_normalize(results)\n",
    "df2"
   ]
  },
  {
   "cell_type": "markdown",
   "id": "805c3ef8",
   "metadata": {},
   "source": [
    "Let's see if we can extract some information from this dataframe. Perhaps, we need to know the family and genus of a cherry."
   ]
  },
  {
   "cell_type": "code",
   "execution_count": null,
   "id": "aece3b5d",
   "metadata": {},
   "outputs": [],
   "source": [
    "cherry = df2.loc[df2[\"name\"] == 'Cherry']\n",
    "(cherry.iloc[0]['family']) , (cherry.iloc[0]['genus'])"
   ]
  },
  {
   "cell_type": "markdown",
   "id": "ca88580d",
   "metadata": {},
   "source": [
    "Find out how many calories are contained in a banana."
   ]
  },
  {
   "cell_type": "code",
   "execution_count": null,
   "id": "aae131e8",
   "metadata": {},
   "outputs": [],
   "source": [
    "banana_cals = ?"
   ]
  },
  {
   "cell_type": "markdown",
   "id": "f53003a1",
   "metadata": {},
   "source": [
    "https://github.com/public-apis/public-apis#animals\n",
    "You can access all kinds of public APIs above.\n",
    "\n",
    "Try to:\n",
    "1. Using requests.get('url') function, load your data.\n",
    "2. Retrieve results using json.loads() function.\n",
    "3. Convert JSON data into pandas DataFrame."
   ]
  },
  {
   "cell_type": "code",
   "execution_count": null,
   "id": "37697cf2",
   "metadata": {},
   "outputs": [],
   "source": []
  },
  {
   "cell_type": "code",
   "execution_count": null,
   "id": "c9fa3d5f",
   "metadata": {},
   "outputs": [],
   "source": []
  },
  {
   "cell_type": "code",
   "execution_count": null,
   "id": "f897dc20",
   "metadata": {},
   "outputs": [],
   "source": []
  }
 ],
 "metadata": {
  "kernelspec": {
   "display_name": "Python 3 (ipykernel)",
   "language": "python",
   "name": "python3"
  },
  "language_info": {
   "codemirror_mode": {
    "name": "ipython",
    "version": 3
   },
   "file_extension": ".py",
   "mimetype": "text/x-python",
   "name": "python",
   "nbconvert_exporter": "python",
   "pygments_lexer": "ipython3",
   "version": "3.10.9"
  }
 },
 "nbformat": 4,
 "nbformat_minor": 5
}
