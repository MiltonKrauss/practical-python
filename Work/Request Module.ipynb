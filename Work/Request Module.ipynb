{
 "cells": [
  {
   "cell_type": "code",
   "execution_count": 1,
   "id": "b62515d9",
   "metadata": {},
   "outputs": [],
   "source": [
    "import requests"
   ]
  },
  {
   "cell_type": "code",
   "execution_count": 2,
   "id": "218aad6a",
   "metadata": {},
   "outputs": [],
   "source": [
    "url='https://www.ibm.com/'"
   ]
  },
  {
   "cell_type": "code",
   "execution_count": 3,
   "id": "38269888",
   "metadata": {},
   "outputs": [],
   "source": [
    "r=requests.get(url)"
   ]
  },
  {
   "cell_type": "code",
   "execution_count": 4,
   "id": "362b2e2c",
   "metadata": {},
   "outputs": [
    {
     "data": {
      "text/plain": [
       "200"
      ]
     },
     "execution_count": 4,
     "metadata": {},
     "output_type": "execute_result"
    }
   ],
   "source": [
    "r.status_code"
   ]
  },
  {
   "cell_type": "code",
   "execution_count": 5,
   "id": "6bff06d5",
   "metadata": {},
   "outputs": [
    {
     "data": {
      "text/plain": [
       "{'User-Agent': 'python-requests/2.28.1', 'Accept-Encoding': 'gzip, deflate, br', 'Accept': '*/*', 'Connection': 'keep-alive', 'Cookie': '_abck=814D3EF5B2C93DD66B8A4512D9FA7F7D~-1~YAAQk2rcF09h2k6KAQAA2t5icgrL6PcEiQnAgn5xep6aLfYRd5bvVmPLl9uQRIFccWeE9WN1eFdAiF2SkK8ETBP5NHyswwtT/gByrQdPnrTLtzbN6t/awTom7edXFgg18aKjxVjzvK7+dlKhlS954x0b6ryDBm4yjcg6fLsCMGzphncbvgrfqHHRhtYKUi9ZWkxd7riqswWPh/k/Km2+6yQtAX/FDcfaOme5jeaNsUiMW6JPyHIhPrE0gBzwMmG8aQiG+eslUBp/51w3K+Wz17KlDXSSlAu4n3zsA6xhPVx3FRAhNaQDT4bPQHghILHQFivWBF2Srx/3S2oazZ1eXQa5tqqag9nKqK4qu4j4YwYRTxHrV6U=~-1~-1~-1; bm_sz=F3874DEFAB70F032A8402CC588AC67C0~YAAQk2rcF1Bh2k6KAQAA2t5ichVs5stOEg3jWxQc6+h1CL4zfeGD747Vw55hbhLAygJnezmOHsBSSeki2lx330muvxgNiorz2ZTPU6c9ear6NOKGo+pDNGEdLnOAOatCBo9jfUnRDER1NgW1LtfpUZjMZImB6M9Yzv8MbceN8kWf8aQHUKZUVdFWI34ZUducbj9Dwxg82qR5VoYnSNqh+ye1esROZ9Jt5gM7eJi5AEWIfSTfCmHGPJNedBTBDnIkxuRqv61zPNHaxGj1QCUOSpYgUrjk97kvG5xSXc/ryFE=~3621172~3617603'}"
      ]
     },
     "execution_count": 5,
     "metadata": {},
     "output_type": "execute_result"
    }
   ],
   "source": [
    "r.request.headers"
   ]
  },
  {
   "cell_type": "code",
   "execution_count": 6,
   "id": "84ac960a",
   "metadata": {},
   "outputs": [],
   "source": [
    "r.request.body"
   ]
  },
  {
   "cell_type": "code",
   "execution_count": 7,
   "id": "fb03a265",
   "metadata": {},
   "outputs": [
    {
     "data": {
      "text/plain": [
       "{'Accept-Ranges': 'bytes', 'Content-Type': 'text/html', 'ETag': '\"55c3db257258b7bc5ebc7d4594078356:1694100723.985942\"', 'Last-Modified': 'Thu, 07 Sep 2023 15:23:50 GMT', 'Server': 'AkamaiNetStorage', 'Cache-Control': 'max-age=303', 'Expires': 'Fri, 08 Sep 2023 01:28:19 GMT', 'X-Akamai-Transformed': '9 20581 0 pmb=mTOE,2', 'Content-Encoding': 'gzip', 'Date': 'Fri, 08 Sep 2023 01:23:16 GMT', 'Content-Length': '20772', 'Connection': 'keep-alive', 'Vary': 'Accept-Encoding', 'x-content-type-options': 'nosniff', 'X-XSS-Protection': '1; mode=block', 'Content-Security-Policy': 'upgrade-insecure-requests', 'Strict-Transport-Security': 'max-age=31536000'}"
      ]
     },
     "execution_count": 7,
     "metadata": {},
     "output_type": "execute_result"
    }
   ],
   "source": [
    "header=r.headers\n",
    "header"
   ]
  },
  {
   "cell_type": "code",
   "execution_count": 8,
   "id": "26a052fb",
   "metadata": {},
   "outputs": [
    {
     "data": {
      "text/plain": [
       "'Fri, 08 Sep 2023 01:23:16 GMT'"
      ]
     },
     "execution_count": 8,
     "metadata": {},
     "output_type": "execute_result"
    }
   ],
   "source": [
    "header['date']"
   ]
  },
  {
   "cell_type": "code",
   "execution_count": 9,
   "id": "ba3c4f38",
   "metadata": {},
   "outputs": [
    {
     "data": {
      "text/plain": [
       "'text/html'"
      ]
     },
     "execution_count": 9,
     "metadata": {},
     "output_type": "execute_result"
    }
   ],
   "source": [
    "header['Content-Type']"
   ]
  },
  {
   "cell_type": "code",
   "execution_count": 10,
   "id": "1989bd9b",
   "metadata": {},
   "outputs": [
    {
     "data": {
      "text/plain": [
       "'ISO-8859-1'"
      ]
     },
     "execution_count": 10,
     "metadata": {},
     "output_type": "execute_result"
    }
   ],
   "source": [
    "r.encoding"
   ]
  },
  {
   "cell_type": "code",
   "execution_count": 11,
   "id": "1bf51f7e",
   "metadata": {},
   "outputs": [
    {
     "data": {
      "text/plain": [
       "'<!DOCTYPE html><html lang=\"en-US\"><head><meta name=\"viewport\" content=\"width=device-width\"/><meta ch'"
      ]
     },
     "execution_count": 11,
     "metadata": {},
     "output_type": "execute_result"
    }
   ],
   "source": [
    "r.text[0:100]"
   ]
  },
  {
   "cell_type": "code",
   "execution_count": 12,
   "id": "79e83693",
   "metadata": {},
   "outputs": [],
   "source": [
    "url_get='http://httpbin.org/get'\n",
    "payload={'name':'Joseph','ID':'123'}\n",
    "r=requests.get(url_get,params=payload)"
   ]
  },
  {
   "cell_type": "code",
   "execution_count": 13,
   "id": "badf4ff0",
   "metadata": {},
   "outputs": [
    {
     "data": {
      "text/plain": [
       "'http://httpbin.org/get?name=Joseph&ID=123'"
      ]
     },
     "execution_count": 13,
     "metadata": {},
     "output_type": "execute_result"
    }
   ],
   "source": [
    "r.url"
   ]
  },
  {
   "cell_type": "code",
   "execution_count": 14,
   "id": "45369589",
   "metadata": {},
   "outputs": [],
   "source": [
    "r.request.body"
   ]
  },
  {
   "cell_type": "code",
   "execution_count": 15,
   "id": "cf334304",
   "metadata": {},
   "outputs": [
    {
     "data": {
      "text/plain": [
       "200"
      ]
     },
     "execution_count": 15,
     "metadata": {},
     "output_type": "execute_result"
    }
   ],
   "source": [
    "r.status_code"
   ]
  },
  {
   "cell_type": "code",
   "execution_count": 16,
   "id": "b7036d52",
   "metadata": {},
   "outputs": [
    {
     "data": {
      "text/plain": [
       "'{\\n  \"args\": {\\n    \"ID\": \"123\", \\n    \"name\": \"Joseph\"\\n  }, \\n  \"headers\": {\\n    \"Accept\": \"*/*\", \\n    \"Accept-Encoding\": \"gzip, deflate, br\", \\n    \"Host\": \"httpbin.org\", \\n    \"User-Agent\": \"python-requests/2.28.1\", \\n    \"X-Amzn-Trace-Id\": \"Root=1-64fa78bf-6c14d2446f58f525550108a1\"\\n  }, \\n  \"origin\": \"24.210.116.202\", \\n  \"url\": \"http://httpbin.org/get?name=Joseph&ID=123\"\\n}\\n'"
      ]
     },
     "execution_count": 16,
     "metadata": {},
     "output_type": "execute_result"
    }
   ],
   "source": [
    "r.text"
   ]
  },
  {
   "cell_type": "code",
   "execution_count": 17,
   "id": "50fe53ad",
   "metadata": {},
   "outputs": [
    {
     "data": {
      "text/plain": [
       "'application/json'"
      ]
     },
     "execution_count": 17,
     "metadata": {},
     "output_type": "execute_result"
    }
   ],
   "source": [
    "r.headers['Content-Type']"
   ]
  },
  {
   "cell_type": "code",
   "execution_count": 18,
   "id": "5dbe0585",
   "metadata": {},
   "outputs": [
    {
     "data": {
      "text/plain": [
       "{'args': {'ID': '123', 'name': 'Joseph'},\n",
       " 'headers': {'Accept': '*/*',\n",
       "  'Accept-Encoding': 'gzip, deflate, br',\n",
       "  'Host': 'httpbin.org',\n",
       "  'User-Agent': 'python-requests/2.28.1',\n",
       "  'X-Amzn-Trace-Id': 'Root=1-64fa78bf-6c14d2446f58f525550108a1'},\n",
       " 'origin': '24.210.116.202',\n",
       " 'url': 'http://httpbin.org/get?name=Joseph&ID=123'}"
      ]
     },
     "execution_count": 18,
     "metadata": {},
     "output_type": "execute_result"
    }
   ],
   "source": [
    "r.json()"
   ]
  },
  {
   "cell_type": "code",
   "execution_count": 19,
   "id": "9866c3cf",
   "metadata": {},
   "outputs": [
    {
     "data": {
      "text/plain": [
       "{'ID': '123', 'name': 'Joseph'}"
      ]
     },
     "execution_count": 19,
     "metadata": {},
     "output_type": "execute_result"
    }
   ],
   "source": [
    "r.json()['args']"
   ]
  },
  {
   "cell_type": "code",
   "execution_count": 22,
   "id": "7d568f13",
   "metadata": {},
   "outputs": [
    {
     "name": "stdout",
     "output_type": "stream",
     "text": [
      "POST request URL: http://httpbin.org/post\n",
      "GET request URL: http://httpbin.org/get?name=Joseph&ID=123\n"
     ]
    }
   ],
   "source": [
    "url_post='http://httpbin.org/post'\n",
    "r_post=requests.post(url_post,data=payload)\n",
    "print('POST request URL:',r_post.url)\n",
    "print('GET request URL:',r.url)"
   ]
  },
  {
   "cell_type": "code",
   "execution_count": 23,
   "id": "9a8b7d58",
   "metadata": {},
   "outputs": [
    {
     "name": "stdout",
     "output_type": "stream",
     "text": [
      "POST request body: name=Joseph&ID=123\n",
      "GET request body: None\n"
     ]
    }
   ],
   "source": [
    "print('POST request body:',r_post.request.body)\n",
    "print('GET request body:',r.request.body)"
   ]
  },
  {
   "cell_type": "code",
   "execution_count": 24,
   "id": "20036d00",
   "metadata": {},
   "outputs": [
    {
     "data": {
      "text/plain": [
       "{'ID': '123', 'name': 'Joseph'}"
      ]
     },
     "execution_count": 24,
     "metadata": {},
     "output_type": "execute_result"
    }
   ],
   "source": [
    "r_post.json()['form']"
   ]
  },
  {
   "cell_type": "code",
   "execution_count": null,
   "id": "54d201dc",
   "metadata": {},
   "outputs": [],
   "source": []
  }
 ],
 "metadata": {
  "kernelspec": {
   "display_name": "Python 3 (ipykernel)",
   "language": "python",
   "name": "python3"
  },
  "language_info": {
   "codemirror_mode": {
    "name": "ipython",
    "version": 3
   },
   "file_extension": ".py",
   "mimetype": "text/x-python",
   "name": "python",
   "nbconvert_exporter": "python",
   "pygments_lexer": "ipython3",
   "version": "3.10.9"
  }
 },
 "nbformat": 4,
 "nbformat_minor": 5
}
