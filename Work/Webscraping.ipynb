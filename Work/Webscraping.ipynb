{
 "cells": [
  {
   "cell_type": "code",
   "execution_count": null,
   "id": "4485fe64",
   "metadata": {},
   "outputs": [],
   "source": [
    "# If installs are required\n",
    "!pip install html5lib"
   ]
  },
  {
   "cell_type": "code",
   "execution_count": null,
   "id": "1b6fa897",
   "metadata": {},
   "outputs": [],
   "source": [
    "!pip install bs4"
   ]
  },
  {
   "cell_type": "code",
   "execution_count": null,
   "id": "456d561e",
   "metadata": {},
   "outputs": [],
   "source": [
    "from bs4 import BeautifulSoup # this module helps in web scraping.\n",
    "import requests  # this module helps us to download a web page"
   ]
  },
  {
   "cell_type": "markdown",
   "id": "944dbb05",
   "metadata": {},
   "source": [
    "Beautiful Soup is a Python library for pulling data out of HTML and XML files, we will focus on HTML files. This is accomplished by representing the HTML as a set of objects with methods used to parse the HTML. We can navigate the HTML as a tree, and/or filter out what we are looking for."
   ]
  },
  {
   "cell_type": "code",
   "execution_count": null,
   "id": "48f46877",
   "metadata": {},
   "outputs": [],
   "source": [
    "%%html\n",
    "<!DOCTYPE html>\n",
    "<html>\n",
    "<head>\n",
    "<title>Page Title</title>\n",
    "</head>\n",
    "<body>\n",
    "<h3><b id='boldest'>Lebron James</b></h3>\n",
    "<p> Salary: $ 92,000,000 </p>\n",
    "<h3> Stephen Curry</h3>\n",
    "<p> Salary: $85,000, 000 </p>\n",
    "<h3> Kevin Durant </h3>\n",
    "<p> Salary: $73,200, 000</p>\n",
    "</body>\n",
    "</html>"
   ]
  },
  {
   "cell_type": "code",
   "execution_count": null,
   "id": "e8597f35",
   "metadata": {},
   "outputs": [],
   "source": [
    "html=\"<!DOCTYPE html><html><head><title>Page Title</title></head><body><h3><b id='boldest'>Lebron James</b></h3><p> Salary: $ 92,000,000 </p><h3> Stephen Curry</h3><p> Salary: $85,000, 000 </p><h3> Kevin Durant </h3><p> Salary: $73,200, 000</p></body></html>\""
   ]
  },
  {
   "cell_type": "markdown",
   "id": "8d49014a",
   "metadata": {},
   "source": [
    "To parse a document, pass it into the BeautifulSoup constructor. The BeautifulSoup object represents the document as a nested data structure:"
   ]
  },
  {
   "cell_type": "code",
   "execution_count": null,
   "id": "f28d2b13",
   "metadata": {},
   "outputs": [],
   "source": [
    "soup = BeautifulSoup(html, 'html5lib')"
   ]
  },
  {
   "cell_type": "markdown",
   "id": "8b6ba53c",
   "metadata": {},
   "source": [
    "First, the document is converted to Unicode (similar to ASCII) and HTML entities are converted to Unicode characters. Beautiful Soup transforms a complex HTML document into a complex tree of Python objects. The BeautifulSoup object can create other types of objects. In this lab, we will cover BeautifulSoup and Tag objects, that for the purposes of this lab are identical. Finally, we will look at NavigableString objects.\n",
    "\n",
    "We can use the method prettify() to display the HTML in the nested structure:"
   ]
  },
  {
   "cell_type": "code",
   "execution_count": null,
   "id": "e897139c",
   "metadata": {},
   "outputs": [],
   "source": [
    "print(soup.prettify())"
   ]
  },
  {
   "cell_type": "markdown",
   "id": "5d097488",
   "metadata": {},
   "source": [
    "Let's say we want the title of the page and the name of the top paid player. We can use the Tag. The Tag object corresponds to an HTML tag in the original document, for example, the tag title."
   ]
  },
  {
   "cell_type": "code",
   "execution_count": null,
   "id": "87340997",
   "metadata": {},
   "outputs": [],
   "source": [
    "tag_object=soup.title\n",
    "print(\"tag object:\",tag_object)"
   ]
  },
  {
   "cell_type": "code",
   "execution_count": null,
   "id": "c71a61d8",
   "metadata": {},
   "outputs": [],
   "source": [
    "print(\"tag object type:\",type(tag_object))"
   ]
  },
  {
   "cell_type": "code",
   "execution_count": null,
   "id": "059aab06",
   "metadata": {},
   "outputs": [],
   "source": [
    "tag_object=soup.h3\n",
    "tag_object"
   ]
  },
  {
   "cell_type": "markdown",
   "id": "29d36b3f",
   "metadata": {},
   "source": [
    "As stated above, the Tag object is a tree of objects. We can access the child of the tag or navigate down the branch as follows:"
   ]
  },
  {
   "cell_type": "code",
   "execution_count": null,
   "id": "3f10dfa9",
   "metadata": {},
   "outputs": [],
   "source": [
    "tag_child =tag_object.b\n",
    "tag_child"
   ]
  },
  {
   "cell_type": "code",
   "execution_count": null,
   "id": "5a072fc7",
   "metadata": {},
   "outputs": [],
   "source": [
    "parent_tag=tag_child.parent\n",
    "parent_tag"
   ]
  },
  {
   "cell_type": "code",
   "execution_count": null,
   "id": "6561ceee",
   "metadata": {},
   "outputs": [],
   "source": [
    "tag_object"
   ]
  },
  {
   "cell_type": "code",
   "execution_count": null,
   "id": "e6838fba",
   "metadata": {},
   "outputs": [],
   "source": [
    "tag_object.parent"
   ]
  },
  {
   "cell_type": "code",
   "execution_count": null,
   "id": "16f6ba92",
   "metadata": {},
   "outputs": [],
   "source": [
    "sibling_1=tag_object.next_sibling\n",
    "sibling_1"
   ]
  },
  {
   "cell_type": "code",
   "execution_count": null,
   "id": "aedb7474",
   "metadata": {},
   "outputs": [],
   "source": [
    "sibling_2=sibling_1.next_sibling\n",
    "sibling_2"
   ]
  },
  {
   "cell_type": "markdown",
   "id": "13a3ccd7",
   "metadata": {},
   "source": [
    "Use the object sibling_2 and the method next_sibling to find the salary of Stephen Curry:"
   ]
  },
  {
   "cell_type": "code",
   "execution_count": null,
   "id": "99f52a91",
   "metadata": {},
   "outputs": [],
   "source": [
    "# code here"
   ]
  },
  {
   "cell_type": "markdown",
   "id": "67f689d9",
   "metadata": {},
   "source": [
    "If the tag has attributes, the tag id=\"boldest\" has an attribute id whose value is boldest. You can access a tag's attributes by treating the tag like a dictionary:"
   ]
  },
  {
   "cell_type": "code",
   "execution_count": null,
   "id": "b216dd9d",
   "metadata": {},
   "outputs": [],
   "source": [
    "tag_child['id']"
   ]
  },
  {
   "cell_type": "code",
   "execution_count": null,
   "id": "15df8adf",
   "metadata": {},
   "outputs": [],
   "source": [
    "# You can access that dictionary directly as attrs:\n",
    "tag_child.attrs"
   ]
  },
  {
   "cell_type": "code",
   "execution_count": null,
   "id": "9c5269c2",
   "metadata": {},
   "outputs": [],
   "source": [
    "# We can also obtain the content of the attribute of the tag using the Python get() method.\n",
    "tag_child.get('id')"
   ]
  },
  {
   "cell_type": "markdown",
   "id": "21ffc9df",
   "metadata": {},
   "source": [
    "A string corresponds to a bit of text or content within a tag. Beautiful Soup uses the NavigableString class to contain this text. In our HTML we can obtain the name of the first player by extracting the string of the Tag object tag_child as follows:"
   ]
  },
  {
   "cell_type": "code",
   "execution_count": null,
   "id": "06429da0",
   "metadata": {},
   "outputs": [],
   "source": [
    "tag_string=tag_child.string\n",
    "tag_string"
   ]
  },
  {
   "cell_type": "code",
   "execution_count": null,
   "id": "c6cfd045",
   "metadata": {},
   "outputs": [],
   "source": [
    "type(tag_string)"
   ]
  },
  {
   "cell_type": "code",
   "execution_count": null,
   "id": "7cf95aa8",
   "metadata": {},
   "outputs": [],
   "source": [
    "unicode_string = str(tag_string)\n",
    "unicode_string"
   ]
  },
  {
   "cell_type": "markdown",
   "id": "f7f8d4fb",
   "metadata": {},
   "source": [
    "Filters allow you to find complex patterns, the simplest filter is a string. In this section we will pass a string to a different filter method and Beautiful Soup will perform a match against that exact string. Consider the following HTML of rocket launches:"
   ]
  },
  {
   "cell_type": "code",
   "execution_count": null,
   "id": "04387f71",
   "metadata": {},
   "outputs": [],
   "source": [
    "%%html\n",
    "<table>\n",
    "  <tr>\n",
    "    <td id='flight' >Flight No</td>\n",
    "    <td>Launch site</td> \n",
    "    <td>Payload mass</td>\n",
    "   </tr>\n",
    "  <tr> \n",
    "    <td>1</td>\n",
    "    <td><a href='https://en.wikipedia.org/wiki/Florida'>Florida</a></td>\n",
    "    <td>300 kg</td>\n",
    "  </tr>\n",
    "  <tr>\n",
    "    <td>2</td>\n",
    "    <td><a href='https://en.wikipedia.org/wiki/Texas'>Texas</a></td>\n",
    "    <td>94 kg</td>\n",
    "  </tr>\n",
    "  <tr>\n",
    "    <td>3</td>\n",
    "    <td><a href='https://en.wikipedia.org/wiki/Florida'>Florida<a> </td>\n",
    "    <td>80 kg</td>\n",
    "  </tr>\n",
    "</table>"
   ]
  },
  {
   "cell_type": "code",
   "execution_count": null,
   "id": "7799bde2",
   "metadata": {},
   "outputs": [],
   "source": [
    "# We can store it as a string in the variable table:\n",
    "table=\"<table><tr><td id='flight'>Flight No</td><td>Launch site</td> <td>Payload mass</td></tr><tr> <td>1</td><td><a href='https://en.wikipedia.org/wiki/Florida'>Florida<a></td><td>300 kg</td></tr><tr><td>2</td><td><a href='https://en.wikipedia.org/wiki/Texas'>Texas</a></td><td>94 kg</td></tr><tr><td>3</td><td><a href='https://en.wikipedia.org/wiki/Florida'>Florida<a> </td><td>80 kg</td></tr></table>\""
   ]
  },
  {
   "cell_type": "code",
   "execution_count": null,
   "id": "4ec723e3",
   "metadata": {},
   "outputs": [],
   "source": [
    "table_bs = BeautifulSoup(table, 'html5lib')"
   ]
  },
  {
   "cell_type": "markdown",
   "id": "4753c5ef",
   "metadata": {},
   "source": [
    "The find_all() method looks through a tag's descendants and retrieves all descendants that match your filters.\n",
    "\n",
    "The Method signature for find_all(name, attrs, recursive, string, limit, **kwargs)\n",
    "\n",
    "When we set the name parameter to a tag name, the method will extract all the tags with that name and its children."
   ]
  },
  {
   "cell_type": "code",
   "execution_count": null,
   "id": "7fcdfade",
   "metadata": {},
   "outputs": [],
   "source": [
    "table_rows=table_bs.find_all('tr')\n",
    "table_rows"
   ]
  },
  {
   "cell_type": "markdown",
   "id": "f184fc6e",
   "metadata": {},
   "source": [
    "The result is a Python iterable just like a list, each element is a tag object:"
   ]
  },
  {
   "cell_type": "code",
   "execution_count": null,
   "id": "5039597e",
   "metadata": {},
   "outputs": [],
   "source": [
    "first_row =table_rows[0]\n",
    "first_row"
   ]
  },
  {
   "cell_type": "code",
   "execution_count": null,
   "id": "be5f86ff",
   "metadata": {},
   "outputs": [],
   "source": [
    "print(type(first_row))"
   ]
  },
  {
   "cell_type": "code",
   "execution_count": null,
   "id": "fa71069d",
   "metadata": {},
   "outputs": [],
   "source": [
    "first_row.td"
   ]
  },
  {
   "cell_type": "markdown",
   "id": "6b04da7f",
   "metadata": {},
   "source": [
    "If we iterate through the list, each element corresponds to a row in the table:"
   ]
  },
  {
   "cell_type": "code",
   "execution_count": null,
   "id": "b9c2727e",
   "metadata": {},
   "outputs": [],
   "source": [
    "for i,row in enumerate(table_rows):\n",
    "    print(\"row\",i,\"is\",row)"
   ]
  },
  {
   "cell_type": "markdown",
   "id": "104a1a27",
   "metadata": {},
   "source": [
    "As row is a cell object, we can apply the method find_all to it and extract table cells in the object cells using the tag td, this is all the children with the name td. The result is a list, each element corresponds to a cell and is a Tag object, we can iterate through this list as well. We can extract the content using the string attribute."
   ]
  },
  {
   "cell_type": "code",
   "execution_count": null,
   "id": "5c42d67f",
   "metadata": {},
   "outputs": [],
   "source": [
    "for i,row in enumerate(table_rows):\n",
    "    print(\"row\",i)\n",
    "    cells=row.find_all('td')\n",
    "    for j,cell in enumerate(cells):\n",
    "        print('colunm',j,\"cell\",cell)"
   ]
  },
  {
   "cell_type": "markdown",
   "id": "5458522b",
   "metadata": {},
   "source": [
    "If we use a list we can match against any item in that list."
   ]
  },
  {
   "cell_type": "code",
   "execution_count": null,
   "id": "327ee0d5",
   "metadata": {},
   "outputs": [],
   "source": [
    "list_input=table_bs .find_all(name=[\"tr\", \"td\"])\n",
    "list_input"
   ]
  },
  {
   "cell_type": "markdown",
   "id": "bee97869",
   "metadata": {},
   "source": [
    "If the argument is not recognized it will be turned into a filter on the tag's attributes. For example with the id argument, Beautiful Soup will filter against each tag's id attribute. For example, the first td elements have a value of id of flight, therefore we can filter based on that id value."
   ]
  },
  {
   "cell_type": "code",
   "execution_count": null,
   "id": "acf1906e",
   "metadata": {},
   "outputs": [],
   "source": [
    "table_bs.find_all(id=\"flight\")"
   ]
  },
  {
   "cell_type": "markdown",
   "id": "f70faf85",
   "metadata": {},
   "source": [
    "We can find all the elements that have links to the Florida Wikipedia page:"
   ]
  },
  {
   "cell_type": "code",
   "execution_count": null,
   "id": "8667bd35",
   "metadata": {},
   "outputs": [],
   "source": [
    "list_input=table_bs.find_all(href=\"https://en.wikipedia.org/wiki/Florida\")\n",
    "list_input"
   ]
  },
  {
   "cell_type": "markdown",
   "id": "86623c07",
   "metadata": {},
   "source": [
    "If we set the href attribute to True, regardless of what the value is, the code finds all tags with href value:"
   ]
  },
  {
   "cell_type": "code",
   "execution_count": null,
   "id": "e7696644",
   "metadata": {},
   "outputs": [],
   "source": [
    "table_bs.find_all(href=True)\n",
    "# Check out BeautifulSoup doc for more info"
   ]
  },
  {
   "cell_type": "markdown",
   "id": "17ac45fd",
   "metadata": {},
   "source": [
    "Using the logic above, find all the elements without href value."
   ]
  },
  {
   "cell_type": "code",
   "execution_count": null,
   "id": "d8a0fe82",
   "metadata": {},
   "outputs": [],
   "source": [
    "# code here"
   ]
  },
  {
   "cell_type": "markdown",
   "id": "e9ffcbfe",
   "metadata": {},
   "source": [
    "Using the soup object soup, find the element with the id attribute content set to \"boldest\"."
   ]
  },
  {
   "cell_type": "code",
   "execution_count": null,
   "id": "993940fa",
   "metadata": {},
   "outputs": [],
   "source": [
    "# code here"
   ]
  },
  {
   "cell_type": "markdown",
   "id": "6b5baff9",
   "metadata": {},
   "source": [
    "With string you can search for strings instead of tags, where we find all the elments with Florida:"
   ]
  },
  {
   "cell_type": "code",
   "execution_count": null,
   "id": "ea4e7791",
   "metadata": {},
   "outputs": [],
   "source": [
    "table_bs.find_all(string=\"Florida\")"
   ]
  },
  {
   "cell_type": "markdown",
   "id": "f723f63d",
   "metadata": {},
   "source": [
    "The find_all() method scans the entire document looking for results. It’s useful if you are looking for one element, as you can use the find() method to find the first element in the document. Consider the following two tables:"
   ]
  },
  {
   "cell_type": "code",
   "execution_count": null,
   "id": "e0efce1d",
   "metadata": {},
   "outputs": [],
   "source": [
    "%%html\n",
    "<h3>Rocket Launch </h3>\n",
    "\n",
    "<p>\n",
    "<table class='rocket'>\n",
    "  <tr>\n",
    "    <td>Flight No</td>\n",
    "    <td>Launch site</td> \n",
    "    <td>Payload mass</td>\n",
    "  </tr>\n",
    "  <tr>\n",
    "    <td>1</td>\n",
    "    <td>Florida</td>\n",
    "    <td>300 kg</td>\n",
    "  </tr>\n",
    "  <tr>\n",
    "    <td>2</td>\n",
    "    <td>Texas</td>\n",
    "    <td>94 kg</td>\n",
    "  </tr>\n",
    "  <tr>\n",
    "    <td>3</td>\n",
    "    <td>Florida </td>\n",
    "    <td>80 kg</td>\n",
    "  </tr>\n",
    "</table>\n",
    "</p>\n",
    "<p>\n",
    "\n",
    "<h3>Pizza Party  </h3>\n",
    "  \n",
    "    \n",
    "<table class='pizza'>\n",
    "  <tr>\n",
    "    <td>Pizza Place</td>\n",
    "    <td>Orders</td> \n",
    "    <td>Slices </td>\n",
    "   </tr>\n",
    "  <tr>\n",
    "    <td>Domino's Pizza</td>\n",
    "    <td>10</td>\n",
    "    <td>100</td>\n",
    "  </tr>\n",
    "  <tr>\n",
    "    <td>Little Caesars</td>\n",
    "    <td>12</td>\n",
    "    <td >144 </td>\n",
    "  </tr>\n",
    "  <tr>\n",
    "    <td>Papa John's </td>\n",
    "    <td>15 </td>\n",
    "    <td>165</td>\n",
    "  </tr>"
   ]
  },
  {
   "cell_type": "code",
   "execution_count": null,
   "id": "061f317c",
   "metadata": {},
   "outputs": [],
   "source": [
    "two_tables=\"<h3>Rocket Launch </h3><p><table class='rocket'><tr><td>Flight No</td><td>Launch site</td> <td>Payload mass</td></tr><tr><td>1</td><td>Florida</td><td>300 kg</td></tr><tr><td>2</td><td>Texas</td><td>94 kg</td></tr><tr><td>3</td><td>Florida </td><td>80 kg</td></tr></table></p><p><h3>Pizza Party  </h3><table class='pizza'><tr><td>Pizza Place</td><td>Orders</td> <td>Slices </td></tr><tr><td>Domino's Pizza</td><td>10</td><td>100</td></tr><tr><td>Little Caesars</td><td>12</td><td >144 </td></tr><tr><td>Papa John's </td><td>15 </td><td>165</td></tr>\""
   ]
  },
  {
   "cell_type": "code",
   "execution_count": null,
   "id": "2c7a6775",
   "metadata": {},
   "outputs": [],
   "source": [
    "two_tables_bs= BeautifulSoup(two_tables, 'html.parser')"
   ]
  },
  {
   "cell_type": "code",
   "execution_count": null,
   "id": "aeb9b124",
   "metadata": {},
   "outputs": [],
   "source": [
    "two_tables_bs.find(\"table\")"
   ]
  },
  {
   "cell_type": "code",
   "execution_count": null,
   "id": "7d89ff9f",
   "metadata": {},
   "outputs": [],
   "source": [
    "two_tables_bs.find(\"table\",class_='pizza')"
   ]
  },
  {
   "cell_type": "markdown",
   "id": "db597a0f",
   "metadata": {},
   "source": [
    "Downloading And Scraping The Contents Of A Web Page\n",
    "\n",
    "We use get to download the contents of the webpage in text format and store in a variable called data:"
   ]
  },
  {
   "cell_type": "code",
   "execution_count": null,
   "id": "343852ff",
   "metadata": {},
   "outputs": [],
   "source": [
    "url = \"http://www.ibm.com\""
   ]
  },
  {
   "cell_type": "code",
   "execution_count": null,
   "id": "b9601619",
   "metadata": {},
   "outputs": [],
   "source": [
    "data  = requests.get(url).text"
   ]
  },
  {
   "cell_type": "code",
   "execution_count": null,
   "id": "2dca7a8d",
   "metadata": {},
   "outputs": [],
   "source": [
    "soup = BeautifulSoup(data,\"html5lib\")  # create a soup object using the variable 'data'"
   ]
  },
  {
   "cell_type": "code",
   "execution_count": null,
   "id": "2627f808",
   "metadata": {},
   "outputs": [],
   "source": [
    "# Scrape all links\n",
    "for link in soup.find_all('a',href=True):  # in html anchor/link is represented by the tag <a>\n",
    "\n",
    "    print(link.get('href'))"
   ]
  },
  {
   "cell_type": "code",
   "execution_count": null,
   "id": "8babc935",
   "metadata": {},
   "outputs": [],
   "source": [
    "# Scrape all image tags\n",
    "for link in soup.find_all('img'):# in html image is represented by the tag <img>\n",
    "    print(link)\n",
    "    print(link.get('src'))"
   ]
  },
  {
   "cell_type": "code",
   "execution_count": null,
   "id": "214f3608",
   "metadata": {},
   "outputs": [],
   "source": [
    "# Scrape data from HTML tables\n",
    "#The below url contains an html table with data about colors and color codes.\n",
    "url = \"https://cf-courses-data.s3.us.cloud-object-storage.appdomain.cloud/IBM-DA0321EN-SkillsNetwork/labs/datasets/HTMLColorCodes.html\""
   ]
  },
  {
   "cell_type": "markdown",
   "id": "6f870625",
   "metadata": {},
   "source": [
    "Before proceeding to scrape a web site, you need to examine the contents and the way data is organized on the website. Open the above url in your browser and check how many rows and columns there are in the color table."
   ]
  },
  {
   "cell_type": "code",
   "execution_count": null,
   "id": "c5ff2296",
   "metadata": {},
   "outputs": [],
   "source": [
    "# get the contents of the webpage in text format and store in a variable called data\n",
    "data  = requests.get(url).text"
   ]
  },
  {
   "cell_type": "code",
   "execution_count": null,
   "id": "b4c87936",
   "metadata": {},
   "outputs": [],
   "source": [
    "soup = BeautifulSoup(data,\"html5lib\")"
   ]
  },
  {
   "cell_type": "code",
   "execution_count": null,
   "id": "bb9715cc",
   "metadata": {},
   "outputs": [],
   "source": [
    "#find a html table in the web page\n",
    "table = soup.find('table') # in html table is represented by the tag <table>"
   ]
  },
  {
   "cell_type": "code",
   "execution_count": null,
   "id": "6bccbeac",
   "metadata": {},
   "outputs": [],
   "source": [
    "#Get all rows from the table\n",
    "for row in table.find_all('tr'): # in html table row is represented by the tag <tr>\n",
    "    # Get all columns in each row.\n",
    "    cols = row.find_all('td') # in html a column is represented by the tag <td>\n",
    "    color_name = cols[2].string # store the value in column 3 as color_name\n",
    "    color_code = cols[3].text # store the value in column 4 as color_code\n",
    "    print(\"{}--->{}\".format(color_name,color_code))"
   ]
  },
  {
   "cell_type": "code",
   "execution_count": null,
   "id": "8f1880e8",
   "metadata": {},
   "outputs": [],
   "source": []
  },
  {
   "cell_type": "code",
   "execution_count": null,
   "id": "ff8474bc",
   "metadata": {},
   "outputs": [],
   "source": []
  }
 ],
 "metadata": {
  "kernelspec": {
   "display_name": "Python 3 (ipykernel)",
   "language": "python",
   "name": "python3"
  },
  "language_info": {
   "codemirror_mode": {
    "name": "ipython",
    "version": 3
   },
   "file_extension": ".py",
   "mimetype": "text/x-python",
   "name": "python",
   "nbconvert_exporter": "python",
   "pygments_lexer": "ipython3",
   "version": "3.10.9"
  }
 },
 "nbformat": 4,
 "nbformat_minor": 5
}
